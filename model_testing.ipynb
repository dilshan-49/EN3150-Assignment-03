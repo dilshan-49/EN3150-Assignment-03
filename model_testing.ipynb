{
 "cells": [
  {
   "cell_type": "code",
   "execution_count": 1,
   "id": "85086d3f",
   "metadata": {},
   "outputs": [],
   "source": [
    "import torch\n",
    "import torch.nn as nn \n",
    "import torch.optim as optim\n",
    "import numpy as np\n",
    "import matplotlib.pyplot as plt\n",
    "from torchvision import datasets, transforms, models"
   ]
  },
  {
   "cell_type": "code",
   "execution_count": 2,
   "id": "a4d3aea0",
   "metadata": {},
   "outputs": [],
   "source": [
    "class CNN_model(nn.Module):\n",
    "    def __init__(self, in_channel):\n",
    "        super().__init__()\n",
    "        \n",
    "        # Convolution blocks\n",
    "        self.feature_extractor = nn.Sequential(\n",
    "            nn.Conv2d(in_channel, 16, kernel_size=3, stride=1,padding=1),\n",
    "            nn.BatchNorm2d(16),\n",
    "            nn.ReLU(inplace=True),\n",
    "            nn.MaxPool2d(kernel_size=2, stride=2),\n",
    "            \n",
    "            nn.Conv2d(16, 32, kernel_size=3, stride=1,padding=1),\n",
    "            nn.BatchNorm2d(32),\n",
    "            nn.ReLU(inplace=True),\n",
    "            nn.MaxPool2d(kernel_size=2, stride=2),\n",
    "            \n",
    "            nn.Conv2d(32, 64, kernel_size=3, stride=1, padding=1),\n",
    "            nn.BatchNorm2d(64),\n",
    "            nn.ReLU(inplace=True),\n",
    "            nn.MaxPool2d(kernel_size=2, stride=2)\n",
    "        )\n",
    "        \n",
    "        # NN block\n",
    "        self.fully_connected = nn.Sequential(\n",
    "            nn.Linear(16*16*64, 512),     # 32768 -> 512\n",
    "            nn.BatchNorm1d(512),\n",
    "            nn.ReLU(inplace=True),\n",
    "            nn.Dropout(0.5),\n",
    "            nn.Linear(512, 64),           # Another layer\n",
    "            nn.BatchNorm1d(64),\n",
    "            nn.ReLU(inplace=True),\n",
    "            nn.Dropout(0.4),\n",
    "            nn.Linear(64, 9)              # Output layer (9 waste categories)\n",
    "        )\n",
    "    def forward(self,x):\n",
    "        X = self.feature_extractor(x)\n",
    "        X = torch.flatten(X,1)\n",
    "        X = self.fully_connected(X)\n",
    "        \n",
    "        return X"
   ]
  },
  {
   "cell_type": "code",
   "execution_count": 3,
   "id": "516dd978",
   "metadata": {},
   "outputs": [],
   "source": [
    "device = torch.device(\"cuda\" if torch.cuda.is_available() else \"cpu\")\n",
    "ckpt_path = \"models/best_model_Adam.pth\"   # update"
   ]
  },
  {
   "cell_type": "code",
   "execution_count": 4,
   "id": "798a8830",
   "metadata": {},
   "outputs": [],
   "source": [
    "model = CNN_model(in_channel=3).to(device)\n",
    "\n",
    "# 2. Load checkpoint \n",
    "ckpt = torch.load(ckpt_path, map_location=device)\n",
    "state_dict = ckpt.get(\"model_state_dict\", ckpt)\n",
    "\n",
    "# 3) Load weights and move model to device\n",
    "model.load_state_dict(state_dict)\n",
    "model = model.to(device)"
   ]
  },
  {
   "cell_type": "code",
   "execution_count": null,
   "id": "509e8cc2",
   "metadata": {},
   "outputs": [],
   "source": [
    "\n",
    "\n",
    "# 1) Recreate model architecture exactly as during training\n",
    "num_classes = 9  # set to your number of classes\n",
    "model = models.resnet50(pretrained=False)\n",
    "model.fc = nn.Linear(model.fc.in_features, num_classes)\n",
    "\n",
    "# 2) Load checkpoint (map_location to device)\n",
    "ckpt = torch.load(ckpt_path, map_location=device)\n",
    "\n",
    "# ckpt may be either a dict with 'model_state_dict' or just a state_dict\n",
    "state_dict = ckpt.get(\"model_state_dict\", ckpt)\n",
    "\n",
    "# If state_dict keys were saved under DataParallel ('module.' prefix), strip it:\n",
    "if any(k.startswith(\"module.\") for k in state_dict.keys()):\n",
    "    state_dict = {k.replace(\"module.\", \"\"): v for k, v in state_dict.items()}\n",
    "\n",
    "# 3) Load weights and move model to device\n",
    "model.load_state_dict(state_dict)\n",
    "model = model.to(device)"
   ]
  }
 ],
 "metadata": {
  "kernelspec": {
   "display_name": "torch",
   "language": "python",
   "name": "python3"
  },
  "language_info": {
   "codemirror_mode": {
    "name": "ipython",
    "version": 3
   },
   "file_extension": ".py",
   "mimetype": "text/x-python",
   "name": "python",
   "nbconvert_exporter": "python",
   "pygments_lexer": "ipython3",
   "version": "3.10.16"
  }
 },
 "nbformat": 4,
 "nbformat_minor": 5
}
